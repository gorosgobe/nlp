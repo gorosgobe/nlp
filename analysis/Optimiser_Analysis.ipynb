{
 "cells": [
  {
   "cell_type": "code",
   "execution_count": 1,
   "metadata": {},
   "outputs": [],
   "source": [
    "import pandas as pd\n",
    "import matplotlib.pyplot as plt\n",
    "import numpy as np"
   ]
  },
  {
   "cell_type": "markdown",
   "metadata": {},
   "source": [
    "# Load Data"
   ]
  },
  {
   "cell_type": "code",
   "execution_count": 2,
   "metadata": {},
   "outputs": [],
   "source": [
    "mse_optimised_path = 'results_mlp.csv'\n",
    "pearson_optimised_path = 'results_mlp_pearson.csv'"
   ]
  },
  {
   "cell_type": "code",
   "execution_count": 3,
   "metadata": {},
   "outputs": [],
   "source": [
    "mse_df = pd.read_csv(mse_optimised_path)\n",
    "pearson_optimised_df = pd.read_csv(pearson_optimised_path)"
   ]
  },
  {
   "cell_type": "code",
   "execution_count": 4,
   "metadata": {},
   "outputs": [],
   "source": [
    "mse_optimised_scores = mse_df.val_pearsonr\n",
    "pearson_optimised_scores = pearson_optimised_df.val_pearsonr"
   ]
  },
  {
   "cell_type": "markdown",
   "metadata": {},
   "source": [
    "# Visualise loss"
   ]
  },
  {
   "cell_type": "code",
   "execution_count": 5,
   "metadata": {},
   "outputs": [
    {
     "name": "stderr",
     "output_type": "stream",
     "text": [
      "/home/erik/Desktop/Year4/NaturalLanguageProcessing/venv/lib/python3.6/site-packages/numpy/lib/histograms.py:839: RuntimeWarning: invalid value encountered in greater_equal\n",
      "  keep = (tmp_a >= first_edge)\n",
      "/home/erik/Desktop/Year4/NaturalLanguageProcessing/venv/lib/python3.6/site-packages/numpy/lib/histograms.py:840: RuntimeWarning: invalid value encountered in less_equal\n",
      "  keep &= (tmp_a <= last_edge)\n"
     ]
    },
    {
     "data": {
      "image/png": "[encoded data removed]",
      "text/plain": [
       "<Figure size 432x288 with 1 Axes>"
      ]
     },
     "metadata": {
      "needs_background": "light"
     },
     "output_type": "display_data"
    }
   ],
   "source": [
    "bins = 100\n",
    "plt.hist(mse_optimised_scores, bins, alpha=0.5, label='mse optimised', density=True)\n",
    "plt.hist(pearson_optimised_scores, bins, alpha=0.5, label='pearson optimised', density=True)\n",
    "plt.legend(loc='lower left')\n",
    "plt.title('Comparison of val_pearson scores on different optimisers')\n",
    "plt.show()"
   ]
  },
  {
   "cell_type": "markdown",
   "metadata": {},
   "source": [
    "# 5 point summary"
   ]
  },
  {
   "cell_type": "code",
   "execution_count": 6,
   "metadata": {},
   "outputs": [],
   "source": [
    "def display_5_point_summary(df):\n",
    "    data_min = df.min()\n",
    "    data_max = df.max()\n",
    "    median = df.median()\n",
    "    first_quartile, third_quartile = df.quantile([0.25, 0.75])\n",
    "    \n",
    "    print(f\"{'MIN: ': <14}{data_min:5f}\")\n",
    "    print(f\"{'MAX: ': <15}{data_max:5f}\")\n",
    "    print(f\"{'MEDIAN:': <15}{median:5f}\")\n",
    "    print(f\"{'1ST QUARTILE:': <15}{first_quartile:5f}\")\n",
    "    print(f\"{'3RD QUARTILE:': <15}{third_quartile:5f}\")\n"
   ]
  },
  {
   "cell_type": "code",
   "execution_count": 7,
   "metadata": {},
   "outputs": [
    {
     "name": "stdout",
     "output_type": "stream",
     "text": [
      "5 point summary of mse optimised pearson val results\n",
      "----------------------------------------------------\n",
      "MIN:          -0.122327\n",
      "MAX:           0.202639\n",
      "MEDIAN:        0.158093\n",
      "1ST QUARTILE:  0.144006\n",
      "3RD QUARTILE:  0.169633\n",
      "\n",
      "5 point summary of pearson optimised pearson val results\n",
      "--------------------------------------------------------\n",
      "MIN:          -0.079129\n",
      "MAX:           0.208447\n",
      "MEDIAN:        0.151822\n",
      "1ST QUARTILE:  0.137221\n",
      "3RD QUARTILE:  0.162519\n"
     ]
    }
   ],
   "source": [
    "print(\"5 point summary of mse optimised pearson val results\")\n",
    "print(\"----------------------------------------------------\")\n",
    "display_5_point_summary(mse_optimised_scores)\n",
    "\n",
    "print()\n",
    "\n",
    "print(\"5 point summary of pearson optimised pearson val results\")\n",
    "print(\"--------------------------------------------------------\")\n",
    "display_5_point_summary(pearson_optimised_scores)"
   ]
  }
 ],
 "metadata": {
  "kernelspec": {
   "display_name": "Python 3",
   "language": "python",
   "name": "python3"
  },
  "language_info": {
   "codemirror_mode": {
    "name": "ipython",
    "version": 3
   },
   "file_extension": ".py",
   "mimetype": "text/x-python",
   "name": "python",
   "nbconvert_exporter": "python",
   "pygments_lexer": "ipython3",
   "version": "3.6.9"
  }
 },
 "nbformat": 4,
 "nbformat_minor": 4
}
